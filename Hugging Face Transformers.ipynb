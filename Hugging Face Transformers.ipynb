{
 "cells": [
  {
   "cell_type": "code",
   "execution_count": null,
   "id": "2688ce0b-1929-4a94-94a1-9280d1176a21",
   "metadata": {},
   "outputs": [
    {
     "name": "stderr",
     "output_type": "stream",
     "text": [
      "No model was supplied, defaulted to distilbert/distilbert-base-uncased-finetuned-sst-2-english and revision 714eb0f (https://huggingface.co/distilbert/distilbert-base-uncased-finetuned-sst-2-english).\n",
      "Using a pipeline without specifying a model name and revision in production is not recommended.\n",
      "Device set to use cpu\n"
     ]
    }
   ],
   "source": [
    "# Import necessary libraries\n",
    "import pandas as pd\n",
    "from transformers import pipeline\n",
    "\n",
    "# Initialize the sentiment analysis pipeline\n",
    "sentiment_analyzer = pipeline('sentiment-analysis')\n",
    "\n",
    "# Load the dataset\n",
    "file_path = 'tweets_processed.csv'  # Adjust this if needed\n",
    "data = pd.read_csv(file_path)\n",
    "\n",
    "# Ensure all processed_text entries are strings\n",
    "data['processed_text'] = data['processed_text'].astype(str)\n",
    "\n",
    "# Apply the sentiment analysis pipeline to the processed_text column\n",
    "data['sentiment'] = data['processed_text'].apply(lambda x: sentiment_analyzer(x)[0]['label'])\n",
    "\n",
    "# Save the results to a new file\n",
    "data.to_csv('tweets_with_sentiment.csv', index=False)\n",
    "\n",
    "# Display the first few rows with sentiment\n",
    "print(data[['processed_text', 'sentiment']].head())\n"
   ]
  },
  {
   "cell_type": "code",
   "execution_count": null,
   "id": "72e9559e-e11f-4d7e-8a15-882f28bbc519",
   "metadata": {},
   "outputs": [],
   "source": [
    "import pandas as pd\n",
    "import matplotlib.pyplot as plt\n",
    "\n",
    "data = pd.read_csv('tweets_with_sentiment.csv')  # Use the updated file\n",
    "\n",
    "sentiment_counts = data['sentiment'].value_counts()\n",
    "\n",
    "# Print the counts\n",
    "print(\"Sentiment Counts:\")\n",
    "print(sentiment_counts)\n",
    "\n",
    "# Plot the counts for better visualization\n",
    "plt.figure(figsize=(8, 6))\n",
    "sentiment_counts.plot(kind='bar')\n",
    "plt.title('Sentiment Counts')\n",
    "plt.xlabel('Sentiment')\n",
    "plt.ylabel('Count')\n",
    "plt.show()\n",
    "\n",
    "\n"
   ]
  },
  {
   "cell_type": "code",
   "execution_count": 2,
   "id": "9d1f76c0-f645-4e47-9b60-8bab0adf1f0a",
   "metadata": {},
   "outputs": [
    {
     "name": "stdout",
     "output_type": "stream",
     "text": [
      "Positive: 10167\n",
      "Negative: 4833\n"
     ]
    }
   ],
   "source": [
    "import pandas as pd\n",
    "import matplotlib.pyplot as plt\n",
    "\n",
    "data = pd.read_csv('tweets_with_sentiment.csv')  # Use the updated file\n",
    "\n",
    "# Count the occurrences of each sentiment\n",
    "sentiment_counts = data['sentiment'].value_counts()\n",
    "\n",
    "# Display the counts\n",
    "print(\"Positive:\", sentiment_counts.get('POSITIVE', 0))\n",
    "print(\"Negative:\", sentiment_counts.get('NEGATIVE', 0))\n"
   ]
  },
  {
   "cell_type": "code",
   "execution_count": null,
   "id": "51d953bf-fe2e-4faf-b8f9-4fd7181c1ed9",
   "metadata": {},
   "outputs": [],
   "source": []
  },
  {
   "cell_type": "code",
   "execution_count": null,
   "id": "e5867c39-7756-4853-883a-d40f7447986d",
   "metadata": {},
   "outputs": [],
   "source": []
  },
  {
   "cell_type": "code",
   "execution_count": null,
   "id": "56a2a668-9d5d-479b-a41c-4971e81c868b",
   "metadata": {},
   "outputs": [],
   "source": []
  },
  {
   "cell_type": "code",
   "execution_count": null,
   "id": "e822e537-2b77-4430-8e83-949bb8cb80ef",
   "metadata": {},
   "outputs": [],
   "source": []
  },
  {
   "cell_type": "code",
   "execution_count": null,
   "id": "e9651ae8-41cd-4546-994a-24f55d138585",
   "metadata": {},
   "outputs": [],
   "source": []
  }
 ],
 "metadata": {
  "kernelspec": {
   "display_name": "Python 3 (ipykernel)",
   "language": "python",
   "name": "python3"
  },
  "language_info": {
   "codemirror_mode": {
    "name": "ipython",
    "version": 3
   },
   "file_extension": ".py",
   "mimetype": "text/x-python",
   "name": "python",
   "nbconvert_exporter": "python",
   "pygments_lexer": "ipython3",
   "version": "3.12.2"
  }
 },
 "nbformat": 4,
 "nbformat_minor": 5
}
